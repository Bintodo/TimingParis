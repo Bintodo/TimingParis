{
 "cells": [
  {
   "cell_type": "code",
   "execution_count": null,
   "metadata": {},
   "outputs": [],
   "source": [
    "import googlemaps\n",
    "# import citymapper\n",
    "mykey=open('gmaps.key').read().strip() # not shared on GitHub\n",
    "myCMkey = open('citymapper.key').read().strip()\n",
    "#https://developers.google.com/maps/documentation/directions/\n",
    "# https://github.com/googlemaps/google-maps-services-python\n",
    "import lib\n",
    "reload(lib)\n",
    "# reload(citymapper)"
   ]
  },
  {
   "cell_type": "code",
   "execution_count": null,
   "metadata": {},
   "outputs": [],
   "source": [
    "import functools\n",
    "\n",
    "class directions(object):\n",
    "    \n",
    "    \"\"\"\n",
    "        This class exposes a call method that calls googlemaps.directions\n",
    "        Additionally, it counts the number of times it's called\n",
    "        \n",
    "        TODO: memoize with dict & singleton\n",
    "    \"\"\"\n",
    "    def __init__(self,key,load_cache=True):\n",
    "        self.gmaps = googlemaps.Client(key=key)\n",
    "        self.calls = 0\n",
    "        self.memo  = {}\n",
    "        self.miss  = 0\n",
    "        self.hit   = 0\n",
    "        self.locked= False\n",
    "        self.__limit = 2500\n",
    "        if load_cache:\n",
    "            try:\n",
    "                self._load()\n",
    "            except:\n",
    "                pass\n",
    "    def __call__(self,*args,**kwargs):\n",
    "        key = str(args)+str(kwargs)\n",
    "        \n",
    "        if key not in self.memo :\n",
    "            if self.calls>(self.__limit-2):\n",
    "                # the free api has a hard limit to 'limit' query/day\n",
    "                print 'you reached the maximum nr of calls for today'\n",
    "                raise StopIteration\n",
    "            try:\n",
    "                self.memo[key]=self.gmaps.directions(*args,**kwargs)\n",
    "            except googlemaps.exceptions.Timeout:\n",
    "                raise StopIteration\n",
    "            self.calls +=1\n",
    "            self.miss   = self.calls\n",
    "        else:\n",
    "            self.hit   += 1\n",
    "        return self.memo[key]\n",
    "    \n",
    "    def _save(self):\n",
    "        import cPickle\n",
    "        with open('data/.directions_cache.pkl','wb') as fout:\n",
    "            cPickle.dump(self.memo,fout)\n",
    "            \n",
    "    def _load(self):\n",
    "        import cPickle\n",
    "        with open('data/.directions_cache.pkl','rb') as fout:\n",
    "            self.memo = cPickle.load(fout)\n",
    "\n",
    "GMapDirections = directions(mykey,load_cache=True)\n",
    "# CMtime         =citymapper.citymapper(myCMkey)\n",
    "len(GMapDirections.memo.keys())"
   ]
  },
  {
   "cell_type": "code",
   "execution_count": null,
   "metadata": {
    "collapsed": true
   },
   "outputs": [],
   "source": [
    "import numpy as np\n",
    "    \n",
    "def haversine(la1,lo1,la2,lo2):\n",
    "    \"\"\"\n",
    "        haversine function (https://en.wikipedia.org/wiki/Haversine_formula)\n",
    "        for the distance between two points on a sphere of radius R\n",
    "        earth radius approximated to 6371 Km, accuracy of 0.5% (wikipedia)\n",
    "    \"\"\"\n",
    "    EARTH_RADIUS = 6371 #Km\n",
    "    C = np.cos\n",
    "    S = np.sin\n",
    "    lo1,la1,lo2,la2 = map(np.radians,(lo1,la1,lo2,la2))\n",
    "    dlat = la2-la1\n",
    "    dlon = lo2-lo1\n",
    "    h2   = (S(dlat/2.)**2.+C(la1)*C(la2)*S(dlon/2.)**2.)**.5\n",
    "    return 2.*EARTH_RADIUS*np.arcsin(h2)"
   ]
  },
  {
   "cell_type": "code",
   "execution_count": null,
   "metadata": {},
   "outputs": [],
   "source": [
    "import json\n",
    "import numpy as np\n",
    "# import seaborn as sns\n",
    "# sns.set_context('paper')\n",
    "import pandas as pd\n",
    "# import matplotlib as mpl\n",
    "from string import atof\n",
    "# from ipyleaflet import (\n",
    "#     Map,\n",
    "#     Marker,\n",
    "#     TileLayer, ImageOverlay,\n",
    "#     Polyline, Polygon, Rectangle, Circle, CircleMarker,\n",
    "#     GeoJSON,\n",
    "#     DrawControl\n",
    "# )"
   ]
  },
  {
   "cell_type": "code",
   "execution_count": null,
   "metadata": {},
   "outputs": [],
   "source": [
    "import pandas as pd\n",
    "import cPickle as pkl\n",
    "\n",
    "fdin = 'sample_points/inside.pkl'\n",
    "with open(fdin,'rb') as fin:\n",
    "    points_inside = pkl.load(fin)\n",
    "    \n",
    "fdout = 'sample_points//outside.pkl'\n",
    "with open(fdout,'rb') as fout:\n",
    "    points_outside = pkl.load(fout)"
   ]
  },
  {
   "cell_type": "code",
   "execution_count": null,
   "metadata": {},
   "outputs": [],
   "source": [
    "print len(points_inside)\n",
    "print len(points_outside)\n",
    "# points_inside == points_outside"
   ]
  },
  {
   "cell_type": "code",
   "execution_count": null,
   "metadata": {},
   "outputs": [],
   "source": [
    "from string import atof\n",
    "import time\n",
    "\n",
    "def get_travel_times(p1,p2,departure=None,modes=None,filter_distance=False):\n",
    "    # compute the 'big-circle' distance\n",
    "    la1,lo1 = p1\n",
    "    la2,lo2 = p2\n",
    "    havsine_d= haversine(la1,lo1,la2,lo2)*1000#distance in meters (but low prec)   \n",
    "    \n",
    "    if not modes:\n",
    "         modes = ['transit','bicycling','driving']#,'walking']\n",
    "#     if modes[0]!='transit':\n",
    "#         raise NotImplementedError('Habemus a problem with Google server response if 1st request is not for transit')\n",
    "        \n",
    "    results = []\n",
    "    for idx,mode in enumerate(modes):\n",
    "\n",
    "        if departure and mode=='transit':\n",
    "            direction = GMapDirections(p1,p2,region='fr',mode=mode,departure_time=departure)\n",
    "        else:\n",
    "            direction = GMapDirections(p1,p2,region='fr',mode=mode)\n",
    "        \n",
    "#               Save these results in separate list and make key to avoid duplicates\n",
    "#         print ('legs: {0:d}'.format(len(direction[0]['legs'])))\n",
    "#         print ('directions: {0:d}'.format(len(direction)))\n",
    "        polyline = direction[0][u'overview_polyline'][u'points']\n",
    "        legs = direction[0]['legs'][0]\n",
    "        steps = legs['steps']\n",
    "    \n",
    "        # get infos from google directions results\n",
    "        distance = atof(legs['distance']['value']) #distance in meters\n",
    "        try:\n",
    "            duration = atof(legs['duration_in_traffic']['value']) # distance in second\n",
    "            print 'duration_in_traffic','no'\n",
    "        except KeyError:\n",
    "            duration = atof(legs['duration']['value']) # distance in second\n",
    "        \n",
    "#         # assign the shortest distance between two points \n",
    "#         # to be the walking distance        \n",
    "#         if mode == 'walking':\n",
    "#             shortest_path_distance = distance\n",
    "            \n",
    "        report = []\n",
    "        \n",
    "        # be sure these diretion require the requested travel mode\n",
    "        steps_travel_mode = [step['travel_mode'].lower().strip() for step in steps]\n",
    "        record = {'mode':mode,'distance':distance,'duration':duration,'p1':p1,'p2':p2,\n",
    "                  'haversine_distance':havsine_d,'walk_distance':None,'kind':'full',\n",
    "                  'departure':departure,'polyline':polyline}\n",
    "        if mode in steps_travel_mode:\n",
    "            report += [record,]\n",
    "        else:\n",
    "            if mode == 'transit':\n",
    "                break\n",
    "            \n",
    "        # retrieve transit with citymapper\n",
    "#         if mode == 'transit':\n",
    "#             cmq = CMtime.transit(p1,p2)\n",
    "#             cm_time = cmq['travel_time_minutes']*60\n",
    "#             record  = {'mode':mode,'distance':distance,'duration':cm_time,'p1':p1,'p2':p2,\n",
    "#                       'haversine_distance':havsine_d,'walk_distance':shortest_path_distance,'kind':'CM','departure':departure}\n",
    "#             report += [record,]\n",
    "        \n",
    "        for step in steps:\n",
    "            try:\n",
    "                _mode      = step[u'travel_mode'].lower().strip()\n",
    "                _distance  = step[u'distance'][u'value']\n",
    "                try:\n",
    "                    _duration = atof(step[u'duration_in_traffic']['value']) # distance in second\n",
    "                except KeyError:\n",
    "                    _duration = atof(step[u'duration']['value']) # distance in second\n",
    "                _kind      = 'step'\n",
    "                _la1,_lo1  = step[u'start_location'][u'lat'],step[u'start_location'][u'lng']\n",
    "                _p1        = np.asarray([_la1,_lo1])\n",
    "                _la2,_lo2  = step[u'end_location'][u'lat'],step[u'end_location'][u'lng']\n",
    "                _p2        = np.asarray([_la2,_lo2])\n",
    "                _havsine_d = haversine(_la1,_lo1,_la2,_lo2)*1000.\n",
    "\n",
    "                report  += [{'mode':_mode,'distance':_distance,'duration':_duration,'p1':_p1,'p2':_p2,\n",
    "                             'haversine_distance':_havsine_d,'walk_distance':None,'kind':_kind,\n",
    "                             'departure':departure,'polyline':None},]\n",
    "            except:\n",
    "                pass\n",
    "#         if mode == 'transit':\n",
    "#             print report\n",
    "        if report:\n",
    "            results.extend( report )\n",
    "        \n",
    "    return results"
   ]
  },
  {
   "cell_type": "code",
   "execution_count": null,
   "metadata": {},
   "outputs": [],
   "source": [
    "p1,p2 = points_inside[6],points_inside[7]\n",
    "depart = lib.nextdayat(lib.days.wednesday,8,)\n",
    "print depart\n",
    "# record = GMapDirections(p1,p2,mode='driving')\n",
    "# ['transit','bicycling']\n",
    "record = get_travel_times(p1,p2,modes=['driving',],filter_distance=False,departure = depart)\n",
    "print GMapDirections.calls\n",
    "# GMapDirections._save()\n",
    "# for j in record:\n",
    "#     print j\n",
    "# record"
   ]
  },
  {
   "cell_type": "code",
   "execution_count": null,
   "metadata": {
    "collapsed": true
   },
   "outputs": [],
   "source": []
  },
  {
   "cell_type": "code",
   "execution_count": null,
   "metadata": {
    "collapsed": true
   },
   "outputs": [],
   "source": [
    "from concurrent import futures"
   ]
  },
  {
   "cell_type": "code",
   "execution_count": null,
   "metadata": {},
   "outputs": [],
   "source": [
    "from tqdm import tnrange, tqdm_notebook\n",
    "import traceback\n",
    "\n",
    "def run_many_extend_no_fail(f,x,max_workers=10,tqdm=False,quiet=False,total=None):\n",
    "    out = []\n",
    "    jobs = []\n",
    "    \n",
    "    \n",
    "    if not total:\n",
    "        total = len(x)\n",
    "    max_workers = min(max_workers,total)    \n",
    "    if max_workers>1:\n",
    "        with futures.ThreadPoolExecutor(max_workers=max_workers) as executor:\n",
    "            for ix in x:\n",
    "                job = executor.submit(f,*ix)\n",
    "                jobs.append(job)\n",
    "            asc_jobs = futures.as_completed(jobs)\n",
    "            if tqdm:\n",
    "                asc_jobs = tqdm_notebook(asc_jobs,total=total)\n",
    "            for job in asc_jobs:\n",
    "                try:\n",
    "                    records = job.result()\n",
    "                except StopIteration as msg:\n",
    "                    print msg\n",
    "                    # cancel all other jobs, then break\n",
    "                    print 'StopIteration raised. cancelling..', job\n",
    "                    for j in jobs:\n",
    "                        # we don't care if we can cancel, won't affect the loop\n",
    "                        if not j.done(): j.cancel()\n",
    "                    break\n",
    "                except Exception:\n",
    "                    if not quiet:\n",
    "                        print traceback.format_exc()\n",
    "#                         raise\n",
    "                else:\n",
    "                    out.extend(records)\n",
    "    else:\n",
    "        for i in tqdm_notebook(x):\n",
    "            try:\n",
    "                records = f(*i)\n",
    "            except StopIteration as msg:\n",
    "                print msg\n",
    "                break\n",
    "            except Exception:\n",
    "                if not quiet:\n",
    "                    print traceback.format_exc()\n",
    "            else:\n",
    "                out.extend(records)\n",
    "            \n",
    "    return out"
   ]
  },
  {
   "cell_type": "code",
   "execution_count": null,
   "metadata": {},
   "outputs": [],
   "source": [
    "import time\n",
    "def crashme(a,b,c):\n",
    "    if a>.9:\n",
    "        raise IndexError\n",
    "    if a==.1:\n",
    "        raise StopIteration\n",
    "    time.sleep(10)\n",
    "    return [[a,b,c],]\n",
    "    \n",
    "\n",
    "x=[[1,1,1],[.5,.5,.5],[.2,.2,.2],[.2,.2,.2],[.2,.2,.2],[.1,.1,.1]]*15\n",
    "# run_many_extend_no_fail(crashme,x,tqdm=True,total=2)"
   ]
  },
  {
   "cell_type": "code",
   "execution_count": null,
   "metadata": {},
   "outputs": [],
   "source": [
    "\n",
    "class NN_pair_from(object):\n",
    "    def __init__(self,X,Y=None,howmany=False):\n",
    "        self.X = X\n",
    "        if Y==None:\n",
    "            self.Y=X\n",
    "        else:\n",
    "            self.Y=Y\n",
    "        self.N = X.shape[0]\n",
    "        self.count = 0\n",
    "        self.howmany=howmany\n",
    "        \n",
    "    def next(self):\n",
    "        while True and (not self.howmany or self.howmany>self.count):\n",
    "            i,j = np.random.choice(self.N, 2, replace=False)\n",
    "            self.count+=1\n",
    "            yield self.X[i],self.Y[j]\n",
    "            \n",
    "    def __iter__(self):\n",
    "        return self.next()\n",
    "    def __len__(self):\n",
    "        return self.howmany"
   ]
  },
  {
   "cell_type": "code",
   "execution_count": null,
   "metadata": {},
   "outputs": [],
   "source": [
    "from time import gmtime, strftime\n",
    "from functools import partial\n",
    "\n",
    "def get_data(X,Y,name,N):\n",
    "    depart = lib.nextdayat(lib.days.monday,8,)\n",
    "    now = strftime(\"%Y-%m-%d-%H-%M-%S\", gmtime())\n",
    "    points = NN_pair_from(X,Y,N)\n",
    "    \n",
    "    fnout = 'data/{:s}_{:s}.pdpkl'.format(name,now)\n",
    "    latest = 'data/{:s}_latest'.format(name)\n",
    "    \n",
    "    import cPickle\n",
    "    try:\n",
    "        with open(latest,'rb') as fin:\n",
    "            data_out=cPickle.load(fin)\n",
    "    except IOError:\n",
    "        data_out = []\n",
    "    print 'records so far:',len(data_out)\n",
    "    \n",
    "    \n",
    "    try:\n",
    "        func = partial(get_travel_times,departure=depart)\n",
    "        data_out.extend(run_many_extend_no_fail(func,points,total=len(points),max_workers=10,quiet=True,tqdm=True))\n",
    "    finally:\n",
    "        GMapDirections._save()\n",
    "        import pandas as pd\n",
    "        import os\n",
    "        df = pd.DataFrame(data_out)\n",
    "\n",
    "        df.to_pickle(fnout)\n",
    "#         latest +='.pdpkl'\n",
    "#         try:\n",
    "#             os.remove(latest)\n",
    "#         except OSError:\n",
    "#             pass\n",
    "#         finally:\n",
    "#             os.symlink(os.path.abspath(fnout),os.path.abspath(latest))\n",
    "\n",
    "        print u' Done ☺'\n",
    "    return df"
   ]
  },
  {
   "cell_type": "code",
   "execution_count": null,
   "metadata": {},
   "outputs": [],
   "source": [
    "bigparis = np.r_[points_inside,points_outside]\n",
    "tests=[{'name':'inside','X':points_inside,'Y':points_inside},\n",
    "       {'name':'outin' ,'X':points_outside,'Y':points_inside},\n",
    "       {'name':'bigpar','X':bigparis,'Y':bigparis}]\n",
    "\n",
    "GMapDirections._save()\n",
    "GMapDirections = directions(mykey,load_cache=True)\n",
    "for ix in range(len(tests)):\n",
    "    df = get_data(N=2500/3/len(tests),**tests[ix])\n",
    "print 'total calls:',GMapDirections.calls"
   ]
  },
  {
   "cell_type": "code",
   "execution_count": null,
   "metadata": {},
   "outputs": [],
   "source": [
    "print GMapDirections.calls\n",
    "print len(df)"
   ]
  },
  {
   "cell_type": "code",
   "execution_count": null,
   "metadata": {},
   "outputs": [],
   "source": [
    "df.groupby(('mode','kind')).count()"
   ]
  },
  {
   "cell_type": "code",
   "execution_count": null,
   "metadata": {
    "collapsed": true
   },
   "outputs": [],
   "source": []
  }
 ],
 "metadata": {
  "anaconda-cloud": {},
  "kernelspec": {
   "display_name": "Python [default]",
   "language": "python",
   "name": "python2"
  },
  "language_info": {
   "codemirror_mode": {
    "name": "ipython",
    "version": 2
   },
   "file_extension": ".py",
   "mimetype": "text/x-python",
   "name": "python",
   "nbconvert_exporter": "python",
   "pygments_lexer": "ipython2",
   "version": "2.7.13"
  },
  "widgets": {
   "state": {
    "1f6a12b2051c4aff94f6577a6b4e6534": {
     "views": [
      {
       "cell_index": 14
      }
     ]
    },
    "5937516a4ab648c8bbdae0c351cb8c04": {
     "views": [
      {
       "cell_index": 14
      }
     ]
    },
    "6eab382288514ce19d4a91d64277e5e5": {
     "views": [
      {
       "cell_index": 14
      }
     ]
    },
    "ccbf57fff7434205b743bb182bf37095": {
     "views": [
      {
       "cell_index": 14
      }
     ]
    }
   },
   "version": "1.2.0"
  }
 },
 "nbformat": 4,
 "nbformat_minor": 2
}
