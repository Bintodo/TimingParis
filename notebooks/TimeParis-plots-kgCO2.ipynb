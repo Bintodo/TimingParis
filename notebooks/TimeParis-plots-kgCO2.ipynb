{
 "cells": [
  {
   "cell_type": "code",
   "execution_count": 35,
   "metadata": {
    "scrolled": true
   },
   "outputs": [
    {
     "name": "stdout",
     "output_type": "stream",
     "text": [
      "Populating the interactive namespace from numpy and matplotlib\n",
      "mkdir: cannot create directory ‘plots/’: File exists\n"
     ]
    }
   ],
   "source": [
    "%pylab inline\n",
    "import math\n",
    "import polyline\n",
    "import itertools\n",
    "import pandas as pd\n",
    "import pylab as plt\n",
    "from glob import glob\n",
    "import seaborn as sns\n",
    "from itertools import cycle\n",
    "from scipy.optimize import curve_fit\n",
    "from tqdm import tqdm_notebook as tqdm\n",
    "from scipy.interpolate import interp1d\n",
    "from scipy.stats import binned_statistic_2d\n",
    "from sklearn.cluster import AffinityPropagation\n",
    "from sklearn.cluster import KMeans,AgglomerativeClustering\n",
    "# --------------------------------------------------------\n",
    "sns.set_context('talk')\n",
    "sns.set_style('whitegrid')\n",
    "sns.set_palette('colorblind')\n",
    "\n",
    "def get_df(test):\n",
    "    rawdf = pd.read_pickle('../data/{0:s}_latest.pdpkl'.format(test))\n",
    "    return rawdf\n",
    "\n",
    "prj = 2\n",
    "tests = ['inside','outin','bigpar']\n",
    "N_CLUSTERS = [8,10,10][prj] # 10 for test 0\n",
    "BOUNDARIES = [(250000,270000,6210000,6227000),\n",
    "              (245000,275000,6205000,6235000),\n",
    "              (245000,275500,6200000,6235000)][prj]\n",
    "df = get_df(tests[prj])\n",
    "TITLE = tests[prj]\n",
    "\n",
    "!mkdir plots/"
   ]
  },
  {
   "cell_type": "markdown",
   "metadata": {
    "collapsed": true
   },
   "source": [
    "## kg CO<sub>2</sub> production"
   ]
  },
  {
   "cell_type": "code",
   "execution_count": 36,
   "metadata": {},
   "outputs": [
    {
     "name": "stdout",
     "output_type": "stream",
     "text": [
      "0.108740228914\n",
      "0.0375930505673\n",
      "0.021\n"
     ]
    }
   ],
   "source": [
    "raw_co2_car = 0.35 #kgc02/mile/passenger -- 2 ways\n",
    "raw_co2_transit = 0.121 #kgco2/mile/passenger -- 2 ways\n",
    "\n",
    "#convert to km per 1 way\n",
    "mileperkm = 1.60934**-1\n",
    "co2_car = raw_co2_car *mileperkm /2.\n",
    "co2_transit = raw_co2_transit *mileperkm /2.\n",
    "co2_bike    = 21./1000. #21g/km\n",
    "print co2_car\n",
    "print co2_transit\n",
    "print co2_bike"
   ]
  },
  {
   "cell_type": "code",
   "execution_count": 37,
   "metadata": {
    "collapsed": true
   },
   "outputs": [],
   "source": [
    "# data['velocity']=data['distance']/data['duration']\n",
    "# data['velocity_hsin']=data['haversine_distance']/data['duration']\n",
    "# data['dratio']=data['distance']/data['haversine_distance']\n",
    "df['co2kg']=df['distance']\n",
    "df.loc[df['mode']=='driving','co2kg'] *= co2_car/1000.\n",
    "df.loc[df['mode']=='transit','co2kg'] *= co2_transit/1000. # To meters\n",
    "df.loc[df['mode']=='bicycling','co2kg'] *= co2_bike/1000. # To meters"
   ]
  },
  {
   "cell_type": "markdown",
   "metadata": {},
   "source": [
    "## Compute coupled and fast trips \n",
    "bcs I didn't decide yet where to save this df"
   ]
  },
  {
   "cell_type": "code",
   "execution_count": 38,
   "metadata": {
    "collapsed": true
   },
   "outputs": [],
   "source": [
    "def get_coupled_trips_relative_speed(mode1,mode2,df):    \n",
    "    \"\"\" compatibility function to get this stuff from the data\"\"\"\n",
    "    \n",
    "    # selection receipt\n",
    "    cpd = df[df.coupled>0]\n",
    "    row_mode1 = cpd[cpd['mode']==mode1]\n",
    "    row_mode2 = cpd[cpd['mode']==mode2]\n",
    "    return row_mode1,row_mode2,df\n",
    "\n",
    "bicycling,driving,df=get_coupled_trips_relative_speed('bicycling','driving',df=df)\n",
    "\n",
    "bike = bicycling[bicycling.bicycling_faster_driving==1]\n",
    "car  = driving[driving.bicycling_faster_driving==0]\n",
    "\n",
    "nobike = bicycling[bicycling.bicycling_faster_driving==0]\n",
    "nocar  = driving[driving.bicycling_faster_driving==1]\n",
    "\n"
   ]
  },
  {
   "cell_type": "code",
   "execution_count": 39,
   "metadata": {},
   "outputs": [
    {
     "data": {
      "text/plain": [
       "((22157, 16), (22157, 16), (1420, 16))"
      ]
     },
     "execution_count": 39,
     "metadata": {},
     "output_type": "execute_result"
    }
   ],
   "source": [
    "bicycling.shape,driving.shape,bike.shape"
   ]
  },
  {
   "cell_type": "code",
   "execution_count": 40,
   "metadata": {},
   "outputs": [
    {
     "data": {
      "text/html": [
       "<div>\n",
       "<style>\n",
       "    .dataframe thead tr:only-child th {\n",
       "        text-align: right;\n",
       "    }\n",
       "\n",
       "    .dataframe thead th {\n",
       "        text-align: left;\n",
       "    }\n",
       "\n",
       "    .dataframe tbody tr th {\n",
       "        vertical-align: top;\n",
       "    }\n",
       "</style>\n",
       "<table border=\"1\" class=\"dataframe\">\n",
       "  <thead>\n",
       "    <tr style=\"text-align: right;\">\n",
       "      <th></th>\n",
       "      <th></th>\n",
       "      <th>departure</th>\n",
       "      <th>distance</th>\n",
       "      <th>duration</th>\n",
       "      <th>haversine_distance</th>\n",
       "      <th>p1</th>\n",
       "      <th>p2</th>\n",
       "      <th>polyline</th>\n",
       "      <th>walk_distance</th>\n",
       "      <th>duration[m]</th>\n",
       "      <th>distance[km]</th>\n",
       "      <th>coupled</th>\n",
       "      <th>bicycling_faster_driving</th>\n",
       "      <th>same</th>\n",
       "      <th>co2kg</th>\n",
       "    </tr>\n",
       "    <tr>\n",
       "      <th>mode</th>\n",
       "      <th>kind</th>\n",
       "      <th></th>\n",
       "      <th></th>\n",
       "      <th></th>\n",
       "      <th></th>\n",
       "      <th></th>\n",
       "      <th></th>\n",
       "      <th></th>\n",
       "      <th></th>\n",
       "      <th></th>\n",
       "      <th></th>\n",
       "      <th></th>\n",
       "      <th></th>\n",
       "      <th></th>\n",
       "      <th></th>\n",
       "    </tr>\n",
       "  </thead>\n",
       "  <tbody>\n",
       "    <tr>\n",
       "      <th rowspan=\"2\" valign=\"top\">bicycling</th>\n",
       "      <th>full</th>\n",
       "      <td>22157</td>\n",
       "      <td>22157</td>\n",
       "      <td>22157</td>\n",
       "      <td>22157</td>\n",
       "      <td>22157</td>\n",
       "      <td>22157</td>\n",
       "      <td>22157</td>\n",
       "      <td>0</td>\n",
       "      <td>22157</td>\n",
       "      <td>22157</td>\n",
       "      <td>22157</td>\n",
       "      <td>22157</td>\n",
       "      <td>22157</td>\n",
       "      <td>22157</td>\n",
       "    </tr>\n",
       "    <tr>\n",
       "      <th>step</th>\n",
       "      <td>201696</td>\n",
       "      <td>201696</td>\n",
       "      <td>201696</td>\n",
       "      <td>201696</td>\n",
       "      <td>201696</td>\n",
       "      <td>201696</td>\n",
       "      <td>0</td>\n",
       "      <td>0</td>\n",
       "      <td>201696</td>\n",
       "      <td>201696</td>\n",
       "      <td>201696</td>\n",
       "      <td>201696</td>\n",
       "      <td>201696</td>\n",
       "      <td>201696</td>\n",
       "    </tr>\n",
       "    <tr>\n",
       "      <th rowspan=\"2\" valign=\"top\">driving</th>\n",
       "      <th>full</th>\n",
       "      <td>22157</td>\n",
       "      <td>22157</td>\n",
       "      <td>22157</td>\n",
       "      <td>22157</td>\n",
       "      <td>22157</td>\n",
       "      <td>22157</td>\n",
       "      <td>22157</td>\n",
       "      <td>0</td>\n",
       "      <td>22157</td>\n",
       "      <td>22157</td>\n",
       "      <td>22157</td>\n",
       "      <td>22157</td>\n",
       "      <td>22157</td>\n",
       "      <td>22157</td>\n",
       "    </tr>\n",
       "    <tr>\n",
       "      <th>step</th>\n",
       "      <td>179337</td>\n",
       "      <td>179337</td>\n",
       "      <td>179337</td>\n",
       "      <td>179337</td>\n",
       "      <td>179337</td>\n",
       "      <td>179337</td>\n",
       "      <td>0</td>\n",
       "      <td>0</td>\n",
       "      <td>179337</td>\n",
       "      <td>179337</td>\n",
       "      <td>179337</td>\n",
       "      <td>179337</td>\n",
       "      <td>179337</td>\n",
       "      <td>179337</td>\n",
       "    </tr>\n",
       "    <tr>\n",
       "      <th rowspan=\"2\" valign=\"top\">transit</th>\n",
       "      <th>full</th>\n",
       "      <td>22157</td>\n",
       "      <td>22157</td>\n",
       "      <td>22157</td>\n",
       "      <td>22157</td>\n",
       "      <td>22157</td>\n",
       "      <td>22157</td>\n",
       "      <td>22157</td>\n",
       "      <td>0</td>\n",
       "      <td>22157</td>\n",
       "      <td>22157</td>\n",
       "      <td>22157</td>\n",
       "      <td>22157</td>\n",
       "      <td>22157</td>\n",
       "      <td>22157</td>\n",
       "    </tr>\n",
       "    <tr>\n",
       "      <th>step</th>\n",
       "      <td>31318</td>\n",
       "      <td>31318</td>\n",
       "      <td>31318</td>\n",
       "      <td>31318</td>\n",
       "      <td>31318</td>\n",
       "      <td>31318</td>\n",
       "      <td>0</td>\n",
       "      <td>0</td>\n",
       "      <td>31318</td>\n",
       "      <td>31318</td>\n",
       "      <td>31318</td>\n",
       "      <td>31318</td>\n",
       "      <td>31318</td>\n",
       "      <td>31318</td>\n",
       "    </tr>\n",
       "    <tr>\n",
       "      <th>walking</th>\n",
       "      <th>step</th>\n",
       "      <td>49705</td>\n",
       "      <td>49705</td>\n",
       "      <td>49705</td>\n",
       "      <td>49705</td>\n",
       "      <td>49705</td>\n",
       "      <td>49705</td>\n",
       "      <td>0</td>\n",
       "      <td>0</td>\n",
       "      <td>49705</td>\n",
       "      <td>49705</td>\n",
       "      <td>49705</td>\n",
       "      <td>49705</td>\n",
       "      <td>49705</td>\n",
       "      <td>49705</td>\n",
       "    </tr>\n",
       "  </tbody>\n",
       "</table>\n",
       "</div>"
      ],
      "text/plain": [
       "                departure  distance  duration  haversine_distance      p1  \\\n",
       "mode      kind                                                              \n",
       "bicycling full      22157     22157     22157               22157   22157   \n",
       "          step     201696    201696    201696              201696  201696   \n",
       "driving   full      22157     22157     22157               22157   22157   \n",
       "          step     179337    179337    179337              179337  179337   \n",
       "transit   full      22157     22157     22157               22157   22157   \n",
       "          step      31318     31318     31318               31318   31318   \n",
       "walking   step      49705     49705     49705               49705   49705   \n",
       "\n",
       "                    p2  polyline  walk_distance  duration[m]  distance[km]  \\\n",
       "mode      kind                                                               \n",
       "bicycling full   22157     22157              0        22157         22157   \n",
       "          step  201696         0              0       201696        201696   \n",
       "driving   full   22157     22157              0        22157         22157   \n",
       "          step  179337         0              0       179337        179337   \n",
       "transit   full   22157     22157              0        22157         22157   \n",
       "          step   31318         0              0        31318         31318   \n",
       "walking   step   49705         0              0        49705         49705   \n",
       "\n",
       "                coupled  bicycling_faster_driving    same   co2kg  \n",
       "mode      kind                                                     \n",
       "bicycling full    22157                     22157   22157   22157  \n",
       "          step   201696                    201696  201696  201696  \n",
       "driving   full    22157                     22157   22157   22157  \n",
       "          step   179337                    179337  179337  179337  \n",
       "transit   full    22157                     22157   22157   22157  \n",
       "          step    31318                     31318   31318   31318  \n",
       "walking   step    49705                     49705   49705   49705  "
      ]
     },
     "execution_count": 40,
     "metadata": {},
     "output_type": "execute_result"
    }
   ],
   "source": [
    "df.groupby(('mode','kind')).count()"
   ]
  },
  {
   "cell_type": "code",
   "execution_count": null,
   "metadata": {
    "collapsed": true
   },
   "outputs": [],
   "source": []
  },
  {
   "cell_type": "code",
   "execution_count": 41,
   "metadata": {},
   "outputs": [
    {
     "data": {
      "image/png": "[encoded data removed]",
      "text/plain": [
       "<matplotlib.figure.Figure at 0x7fdbe92549d0>"
      ]
     },
     "metadata": {},
     "output_type": "display_data"
    }
   ],
   "source": [
    "sns.palplot(sns.color_palette('bright',8))"
   ]
  },
  {
   "cell_type": "code",
   "execution_count": 42,
   "metadata": {
    "scrolled": true
   },
   "outputs": [
    {
     "data": {
      "image/png": "[encoded data removed]",
      "text/plain": [
       "<matplotlib.figure.Figure at 0x7fdbe97a6810>"
      ]
     },
     "metadata": {},
     "output_type": "display_data"
    }
   ],
   "source": [
    "import seaborn\n",
    "seaborn.set(style='whitegrid')\n",
    "seaborn.set_palette('bright')\n",
    "b1 = sns.color_palette('bright')[0]\n",
    "b2 = sns.color_palette('bright')[2]\n",
    "fig,(ax,bx)=plt.subplots(1,2,figsize=(13,4),sharex='all',sharey='all')\n",
    "bins=np.arange(0,50,1)\n",
    "modes = ['bicycling','driving',]\n",
    "\n",
    "seaborn.distplot(df[(df.kind=='full') & (df['mode']=='driving')]['distance']/1000,color=b1,bins=bins,norm_hist=0,kde=0,ax=ax)\n",
    "seaborn.distplot(df[(df.kind=='full') & (df['mode']=='bicycling')]['distance']/1000,color=b2,bins=bins,norm_hist=0,kde=0,ax=ax)\n",
    "seaborn.distplot(car['haversine_distance']/1000,color=b1,bins=bins,kde=0,ax=bx)\n",
    "seaborn.distplot(bike['haversine_distance']/1000,color=b2,bins=bins,kde=0,ax=bx)\n",
    "\n",
    "ax.legend(['car','bike'])\n",
    "bx.legend(['car is faster','bike is faster'])\n",
    "\n",
    "ax.set_xlabel('travelled distance [km]')\n",
    "bx.set_xlabel('geodetic distance [km]')\n",
    "ax.set_xlim(0,25)\n",
    "fig.savefig('../plots/{0:s}_hist_dist_mode.png'.format(TITLE),bbox_inches='tight',dpi=96)"
   ]
  },
  {
   "cell_type": "code",
   "execution_count": 43,
   "metadata": {
    "collapsed": true
   },
   "outputs": [],
   "source": [
    "bins = np.arange(0,26,.5)\n",
    "digitize_km = lambda x : bins[np.digitize(x,bins=bins)]\n",
    "bicycling['geo_distance_binned']=(bicycling['haversine_distance']/1000.).map(digitize_km)\n",
    "\n",
    "max_distance_bin = []\n",
    "value = []\n",
    "for i,j in bicycling.groupby('geo_distance_binned'):\n",
    "    max_distance_bin.append(i)\n",
    "    value.append(j['bicycling_faster_driving'].sum()*1./j['bicycling_faster_driving'].count())\n",
    "data_out = np.asarray((max_distance_bin,value))\n",
    "np.save(open('../data/{0:s}_bikewin_distance.npy'.format(TITLE),'wb'),data_out)"
   ]
  },
  {
   "cell_type": "code",
   "execution_count": 44,
   "metadata": {},
   "outputs": [
    {
     "data": {
      "image/png": "[encoded data removed]",
      "text/plain": [
       "<matplotlib.figure.Figure at 0x7fdbd6fcebd0>"
      ]
     },
     "metadata": {},
     "output_type": "display_data"
    }
   ],
   "source": [
    "fig,ax=plt.subplots(1,1,figsize=(5,3))\n",
    "ax.plot(max_distance_bin,value)\n",
    "ax.set_xlabel('geodetic distance[km]')\n",
    "ax.set_ylabel('fraction of trips convenient by bike')\n",
    "fig.savefig('../plots/fraction_vs_distance_{0:s}.png'.format(TITLE),bbox_inches='tight',dpi=96)"
   ]
  },
  {
   "cell_type": "code",
   "execution_count": 45,
   "metadata": {},
   "outputs": [
    {
     "data": {
      "text/plain": [
       "<matplotlib.text.Text at 0x7fdbe8da4410>"
      ]
     },
     "execution_count": 45,
     "metadata": {},
     "output_type": "execute_result"
    },
    {
     "data": {
      "image/png": "[encoded data removed]",
      "text/plain": [
       "<matplotlib.figure.Figure at 0x7fdbeff37690>"
      ]
     },
     "metadata": {},
     "output_type": "display_data"
    }
   ],
   "source": [
    "from glob import glob \n",
    "files = glob('../data/*_bikewin_distance.npy')\n",
    "for fin in files:\n",
    "    max_distance_bin,value = np.load(fin)\n",
    "    label = fin.split('/')[2].split('_')[0]\n",
    "    plt.plot(max_distance_bin,value,label=label)\n",
    "plt.legend()\n",
    "plt.xlabel('geodetic distance [km]')\n",
    "plt.ylabel('fraction of trips convenient by bike')"
   ]
  },
  {
   "cell_type": "code",
   "execution_count": 46,
   "metadata": {},
   "outputs": [
    {
     "name": "stdout",
     "output_type": "stream",
     "text": [
      "fraction of bikable within 5km: 0.22\n",
      "fraction of bikable: 0.06\n"
     ]
    }
   ],
   "source": [
    "print 'fraction of bikable within 5km:','{0:.2f}'.format(bike[bike.haversine_distance<5000].p1.shape[0]*1./bicycling[bicycling.haversine_distance<5000].p1.shape[0])\n",
    "print 'fraction of bikable:','{0:.2f}'.format(bike.p1.shape[0]*1./bicycling.p1.shape[0])"
   ]
  },
  {
   "cell_type": "markdown",
   "metadata": {},
   "source": [
    "## With parking time"
   ]
  },
  {
   "cell_type": "code",
   "execution_count": 47,
   "metadata": {
    "collapsed": true
   },
   "outputs": [],
   "source": [
    "import sys;sys.path.append('../')\n",
    "import lib.dictlist as dl"
   ]
  },
  {
   "cell_type": "code",
   "execution_count": 48,
   "metadata": {
    "collapsed": true
   },
   "outputs": [],
   "source": [
    "total_trips = bicycling.shape[0]*1. \n",
    "\n",
    "cols = ['coupled','duration']\n",
    "B = bicycling[cols].values\n",
    "D = driving[cols].values\n",
    "z = dl.dictlist(B)\n",
    "z.update(D)\n",
    "coupled_durations = np.asarray(z.values()).T\n",
    "\n",
    "# this function returns the number of bike trips which are faster by bike versus car time + t minutes for parking\n",
    "# time is stored in 'duration' in seconds\n",
    "count_fraction_bike_faster_w_parking = lambda t:((coupled_durations[0]-(coupled_durations[1]+t*60))<=0).sum()/total_trips"
   ]
  },
  {
   "cell_type": "code",
   "execution_count": 49,
   "metadata": {},
   "outputs": [
    {
     "data": {
      "image/png": "[encoded data removed]",
      "text/plain": [
       "<matplotlib.figure.Figure at 0x7fdbd6fce110>"
      ]
     },
     "metadata": {},
     "output_type": "display_data"
    }
   ],
   "source": [
    "times = xrange(0,30) # minutes\n",
    "fig,ax=plt.subplots(1,1,figsize=(5,3))\n",
    "ax.plot(times,map(count_fraction_bike_faster_w_parking,times))\n",
    "ax.set_xlabel('car parking time [min]')\n",
    "ax.set_ylabel('fraction of convenient bike trips')\n",
    "fig.savefig('../plots/on_parking_time_{0:s}.png'.format(TITLE),bbox_inches='tight',dpi=96)"
   ]
  },
  {
   "cell_type": "code",
   "execution_count": 50,
   "metadata": {},
   "outputs": [
    {
     "data": {
      "image/png": "[encoded data removed]",
      "text/plain": [
       "<matplotlib.figure.Figure at 0x7fdbd6fd3e10>"
      ]
     },
     "metadata": {},
     "output_type": "display_data"
    }
   ],
   "source": [
    "import seaborn\n",
    "\n",
    "seaborn.set(style='whitegrid')\n",
    "seaborn.set_palette('Paired')\n",
    "fig,ax=plt.subplots(1,1)\n",
    "bins=np.arange(0,3,.025)\n",
    "modes = ['transit','driving','bicycling']\n",
    "for mode in modes:\n",
    "#     data[(data.kind=='full') & (data['mode']==mode)].hist(column='co2kg',ax=ax,sharex=1,\n",
    "#                                                           bins=bins,alpha=1,cumulative=0,normed=1)\n",
    "    seaborn.distplot(df[(df.kind=='full') & (df['mode']==mode)]['co2kg'],bins=bins,norm_hist=0,kde=0)\n",
    "# car.hist(column='co2kg',ax=ax,sharex=1,bins=bins,alpha=1,cumulative=0,normed=0)\n",
    "seaborn.distplot(car['co2kg'],bins=bins,kde=0)\n",
    "seaborn.distplot(bike['co2kg'],bins=bins,kde=0)\n",
    "ax.legend(modes+['car < bike','car > bike'])\n",
    "ax.set_xlabel('kg CO_2/passenger/trip')\n",
    "ax.set_xlim(0,2.5)\n",
    "fig.savefig('../plots/{0:s}_hist_kgco2_mode.png'.format(TITLE),bbox_inches='tight',dpi=96)"
   ]
  },
  {
   "cell_type": "code",
   "execution_count": 51,
   "metadata": {},
   "outputs": [
    {
     "name": "stdout",
     "output_type": "stream",
     "text": [
      "car all co2[kg]: 30949.3796059\n",
      "car <bike co2[kg]: 30140.8454397\n",
      "bike<car co2[kg]: 130.807761\n",
      "optimal: 30271.6532007\n",
      "(worse-optimal)/worse: 0.0218978995317\n"
     ]
    }
   ],
   "source": [
    "co2_all_car    = driving['co2kg'].sum()\n",
    "co2_car_faster = car['co2kg'].sum()\n",
    "co2_bike_faster= bike['co2kg'].sum()\n",
    "\n",
    "print 'car all co2[kg]:',co2_all_car\n",
    "print 'car <bike co2[kg]:',co2_car_faster\n",
    "print 'bike<car co2[kg]:', co2_bike_faster\n",
    "print 'optimal:',co2_car_faster+co2_bike_faster\n",
    "print '(worse-optimal)/worse:', (co2_all_car-co2_car_faster-co2_bike_faster)/co2_all_car"
   ]
  }
 ],
 "metadata": {
  "anaconda-cloud": {},
  "kernelspec": {
   "display_name": "Python [default]",
   "language": "python",
   "name": "python2"
  },
  "language_info": {
   "codemirror_mode": {
    "name": "ipython",
    "version": 2
   },
   "file_extension": ".py",
   "mimetype": "text/x-python",
   "name": "python",
   "nbconvert_exporter": "python",
   "pygments_lexer": "ipython2",
   "version": "2.7.13"
  }
 },
 "nbformat": 4,
 "nbformat_minor": 2
}
