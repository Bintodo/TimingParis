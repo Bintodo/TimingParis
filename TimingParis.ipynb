{
 "cells": [
  {
   "cell_type": "code",
   "execution_count": 2,
   "metadata": {
    "collapsed": false
   },
   "outputs": [],
   "source": [
    "import googlemaps\n",
    "mykey=open('gmaps.key').read().strip() # not shared on GitHub\n",
    "gmaps = googlemaps.Client(key=mykey)\n"
   ]
  },
  {
   "cell_type": "code",
   "execution_count": 43,
   "metadata": {
    "collapsed": false,
    "scrolled": false
   },
   "outputs": [],
   "source": [
    "example = gmaps.directions([48.864716, 2.34954],[48.864716, 2.37974],mode='transit')"
   ]
  },
  {
   "cell_type": "code",
   "execution_count": 44,
   "metadata": {
    "collapsed": false
   },
   "outputs": [],
   "source": [
    "# import cPickle as cP\n",
    "# with open('data/example.pkl','wb') as fout:\n",
    "#     cP.dump(example,fout)"
   ]
  },
  {
   "cell_type": "code",
   "execution_count": 46,
   "metadata": {
    "collapsed": false
   },
   "outputs": [
    {
     "data": {
      "text/plain": [
       "{u'text': u'2.6 km', u'value': 2638}"
      ]
     },
     "execution_count": 46,
     "metadata": {},
     "output_type": "execute_result"
    }
   ],
   "source": [
    "example[0]['legs'][0]['distance']"
   ]
  },
  {
   "cell_type": "code",
   "execution_count": 47,
   "metadata": {
    "collapsed": false
   },
   "outputs": [
    {
     "name": "stdout",
     "output_type": "stream",
     "text": [
      "Populating the interactive namespace from numpy and matplotlib\n"
     ]
    }
   ],
   "source": [
    "%pylab inline\n",
    "import json\n",
    "import numpy as np\n",
    "import seaborn as sns\n",
    "sns.set_context('paper')\n",
    "import pandas as pd\n",
    "import matplotlib as mpl\n",
    "from string import atof\n",
    "from ipyleaflet import (\n",
    "    Map,\n",
    "    Marker,\n",
    "    TileLayer, ImageOverlay,\n",
    "    Polyline, Polygon, Rectangle, Circle, CircleMarker,\n",
    "    GeoJSON,\n",
    "    DrawControl\n",
    ")"
   ]
  },
  {
   "cell_type": "code",
   "execution_count": 130,
   "metadata": {
    "collapsed": false
   },
   "outputs": [],
   "source": [
    "center = [48.85606816414895, 2.343006134033203]\n",
    "zoom = 11\n",
    "\n",
    "m = Map(center=center, zoom=zoom)\n",
    "\n",
    "c2 = Circle(location=center, radius=int(6e3), weight=10,\n",
    "            color='#F00', opacity=.2, fill_opacity=.1,\n",
    "            fill_color='#F00')\n",
    "m"
   ]
  },
  {
   "cell_type": "code",
   "execution_count": 131,
   "metadata": {
    "collapsed": false
   },
   "outputs": [],
   "source": [
    "m+=c2"
   ]
  },
  {
   "cell_type": "code",
   "execution_count": 132,
   "metadata": {
    "collapsed": false
   },
   "outputs": [],
   "source": [
    "x0,y0=[48.85606816414895, 2.343006134033203]\n",
    "for x in xrange(0,7):\n",
    "    for d in [-1,1]:\n",
    "        m1 = Marker(location=[x0+1e-2*x*d, y0])\n",
    "        m+=m1\n",
    "        m1.visible = True\n",
    "for x in xrange(0,5):\n",
    "    for d in [-1,1]:\n",
    "        m1 = Marker(location=[x0, y0+2e-2*x*d])\n",
    "        m+=m1\n",
    "        m1.visible = True"
   ]
  },
  {
   "cell_type": "code",
   "execution_count": null,
   "metadata": {
    "collapsed": true
   },
   "outputs": [],
   "source": []
  }
 ],
 "metadata": {
  "anaconda-cloud": {},
  "kernelspec": {
   "display_name": "Python [default]",
   "language": "python",
   "name": "python2"
  },
  "language_info": {
   "codemirror_mode": {
    "name": "ipython",
    "version": 2
   },
   "file_extension": ".py",
   "mimetype": "text/x-python",
   "name": "python",
   "nbconvert_exporter": "python",
   "pygments_lexer": "ipython2",
   "version": "2.7.13"
  },
  "widgets": {
   "state": {
    "46c6dca1d44745ab9a083396f417f393": {
     "views": [
      {
       "cell_index": 5
      }
     ]
    }
   },
   "version": "1.2.0"
  }
 },
 "nbformat": 4,
 "nbformat_minor": 2
}
