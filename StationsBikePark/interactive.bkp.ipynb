{
 "cells": [
  {
   "cell_type": "code",
   "execution_count": 1,
   "metadata": {},
   "outputs": [
    {
     "name": "stdout",
     "output_type": "stream",
     "text": [
      "Populating the interactive namespace from numpy and matplotlib\n"
     ]
    }
   ],
   "source": [
    "%pylab inline\n",
    "import pandas as pd\n",
    "import numpy as np\n",
    "import dill\n",
    "from string import atoi\n",
    "import geojson as gj"
   ]
  },
  {
   "cell_type": "code",
   "execution_count": 2,
   "metadata": {
    "collapsed": true
   },
   "outputs": [],
   "source": [
    "def getstat(idx):\n",
    "    return table_stations[table_stations.id==idx]\n",
    "def getpark(idx):\n",
    "    return table_pbike[table_pbike.id==idx]\n",
    "def dstr(x):\n",
    "    out = u\"\"\n",
    "    x = x.values[0]\n",
    "    for i,j in x.iteritems():\n",
    "        if 'source' not in i:\n",
    "            out +=u\"{0:s}:{1:s} -- \\n\".format(i,j)\n",
    "    return out.strip()"
   ]
  },
  {
   "cell_type": "code",
   "execution_count": 3,
   "metadata": {
    "collapsed": true
   },
   "outputs": [],
   "source": [
    "table_pbike = pd.read_pickle('table_pbike.pkl')\n",
    "table_stations = pd.read_pickle('table_stations.pkl')"
   ]
  },
  {
   "cell_type": "code",
   "execution_count": 5,
   "metadata": {
    "collapsed": true
   },
   "outputs": [],
   "source": [
    "trafic_entrant_RATP= pd.read_json(open('trafic-annuel-entrant-par-station-du-reseau-ferre-2016.json','r'))"
   ]
  },
  {
   "cell_type": "code",
   "execution_count": 6,
   "metadata": {
    "collapsed": true
   },
   "outputs": [],
   "source": [
    "columns = trafic_entrant_RATP.fields.iat[0].keys()\n",
    "trafic_entrant_RATP = pd.DataFrame(data=trafic_entrant_RATP.fields.values.tolist(),columns=columns)"
   ]
  },
  {
   "cell_type": "code",
   "execution_count": 7,
   "metadata": {
    "collapsed": true
   },
   "outputs": [],
   "source": [
    "# (failed) attempt to associate each metro entrance with its entrance trafic \n",
    "# I guess that the best way is to make ad-hoc overpass API queries"
   ]
  },
  {
   "cell_type": "code",
   "execution_count": 8,
   "metadata": {
    "collapsed": true
   },
   "outputs": [],
   "source": [
    "import unidecode\n",
    "from fuzzywuzzy import fuzz"
   ]
  },
  {
   "cell_type": "code",
   "execution_count": 9,
   "metadata": {
    "collapsed": true
   },
   "outputs": [],
   "source": [
    "simple_stations = trafic_entrant_RATP.station.apply(lambda x:unidecode.unidecode(x).lower()).tolist()\n",
    "\n",
    "def get_station_from_name(name):\n",
    "    name = unidecode.unidecode(name)\n",
    "    station =  [(j,fuzz.token_set_ratio(name,j)) for j in simple_stations ]\n",
    "    if len(station):\n",
    "        station = sorted(station,key=lambda x:x[1])[-1]\n",
    "        if station[1]>90:\n",
    "            return station[0]\n",
    "    return None"
   ]
  },
  {
   "cell_type": "code",
   "execution_count": 10,
   "metadata": {
    "collapsed": true
   },
   "outputs": [],
   "source": [
    "def get_name_or_none(x):\n",
    "    keys = ['station','wikipedia','name','alt_name','short_name']\n",
    "    ops  = [lambda x: x.strip(),\n",
    "            lambda x: x.split(':')[1].split('(')[0].strip(),\n",
    "            lambda x: x.split(' - ')[0].strip(),\n",
    "            lambda x: x.split('- S')[0].strip(),\n",
    "            lambda x: x.strip()]\n",
    "    for k,o in zip(keys,ops):\n",
    "        try:\n",
    "            return o(x[k])\n",
    "        except:\n",
    "            pass\n",
    "    return None\n",
    "    \n",
    "def get_stat_from_tag(tag):\n",
    "    name = get_name_or_none(tag)\n",
    "    if name:\n",
    "        stat = get_station_from_name(name)\n",
    "        return stat\n",
    "    else:\n",
    "        return name\n",
    "stations = table_stations.tags.apply(get_stat_from_tag)"
   ]
  },
  {
   "cell_type": "code",
   "execution_count": 11,
   "metadata": {},
   "outputs": [
    {
     "data": {
      "text/plain": [
       "count              640\n",
       "unique             200\n",
       "top       saint-lazare\n",
       "freq                16\n",
       "Name: tags, dtype: object"
      ]
     },
     "execution_count": 11,
     "metadata": {},
     "output_type": "execute_result"
    }
   ],
   "source": [
    "stations.describe()"
   ]
  },
  {
   "cell_type": "code",
   "execution_count": 12,
   "metadata": {
    "collapsed": true
   },
   "outputs": [],
   "source": [
    "# Uff.. why not using the overpass api to get the station by name, then look around to find exits, and then parks?"
   ]
  },
  {
   "cell_type": "code",
   "execution_count": 13,
   "metadata": {},
   "outputs": [
    {
     "name": "stdout",
     "output_type": "stream",
     "text": [
      "mean: 13925\n",
      "std : 18242\n"
     ]
    }
   ],
   "source": [
    "# average number of unique ppl entering a metro station in a year in paris\n",
    "print 'mean: %.0f' % (trafic_entrant_RATP[trafic_entrant_RATP.arrondissement_pour_paris>0].trafic.mean()/365.)\n",
    "print 'std : %.0f' % (trafic_entrant_RATP[trafic_entrant_RATP.arrondissement_pour_paris>0].trafic.std()/365.)"
   ]
  },
  {
   "cell_type": "code",
   "execution_count": 14,
   "metadata": {},
   "outputs": [
    {
     "data": {
      "text/plain": [
       "<matplotlib.text.Text at 0x7f51e6a33890>"
      ]
     },
     "execution_count": 14,
     "metadata": {},
     "output_type": "execute_result"
    },
    {
     "data": {
      "image/png": "[encoded data removed]",
      "text/plain": [
       "<matplotlib.figure.Figure at 0x7f51ea201210>"
      ]
     },
     "metadata": {},
     "output_type": "display_data"
    }
   ],
   "source": [
    "import seaborn as sns\n",
    "from scipy.stats import norm,poisson\n",
    "stuff = trafic_entrant_RATP[trafic_entrant_RATP.arrondissement_pour_paris>0].trafic\n",
    "sns.distplot(stuff.apply(lambda x:np.log10(x/365.)),bins=50,fit=norm,kde=0)\n",
    "plt.gca().set_xlabel('log10(daily traffic entrant RATP stations)')"
   ]
  },
  {
   "cell_type": "code",
   "execution_count": 15,
   "metadata": {
    "collapsed": true
   },
   "outputs": [],
   "source": [
    "data = dill.load(open('top10s.dill','rb'))\n",
    "stat2park = data['stat2park']\n",
    "park2stat = data['park2stat']"
   ]
  },
  {
   "cell_type": "code",
   "execution_count": 16,
   "metadata": {
    "collapsed": true
   },
   "outputs": [],
   "source": [
    "distances0 = [d[0][0]*1000 for d in park2stat]\n",
    "distances1 = [d[1][0]*1000 for d in park2stat]\n",
    "distances2 = [d[2][0]*1000 for d in park2stat]"
   ]
  },
  {
   "cell_type": "code",
   "execution_count": 22,
   "metadata": {
    "scrolled": false
   },
   "outputs": [
    {
     "name": "stdout",
     "output_type": "stream",
     "text": [
      "Populating the interactive namespace from numpy and matplotlib\n"
     ]
    },
    {
     "data": {
      "text/plain": [
       "<matplotlib.legend.Legend at 0x7f51e21d5610>"
      ]
     },
     "execution_count": 22,
     "metadata": {},
     "output_type": "execute_result"
    },
    {
     "data": {
      "image/png": "[encoded data removed]",
      "text/plain": [
       "<matplotlib.figure.Figure at 0x7f51e21d55d0>"
      ]
     },
     "metadata": {},
     "output_type": "display_data"
    }
   ],
   "source": [
    "%pylab inline\n",
    "import pylab as plt\n",
    "bins = np.linspace(0,1000,200)\n",
    "\n",
    "cs=False\n",
    "plt.hist(distances0,bins=bins,cumulative=cs);\n",
    "plt.hist(distances1,bins=bins,cumulative=cs);\n",
    "plt.hist(distances2,bins=bins,cumulative=cs);\n",
    "plt.xlim(0,150)\n",
    "plt.gca().set_xlabel('distance[m]')\n",
    "plt.gca().legend(['nearest','2nd nearest','3rd'])"
   ]
  },
  {
   "cell_type": "code",
   "execution_count": 66,
   "metadata": {
    "collapsed": true
   },
   "outputs": [],
   "source": [
    "tmp=[]\n",
    "for row_stat in park2stat:\n",
    "    for pbike in row_stat:\n",
    "        d,(_,idpark)=pbike\n",
    "        park=getpark(idpark)\n",
    "        capacity = np.nan\n",
    "        try:\n",
    "            capacity = park.tags.values[0]['capacity']\n",
    "            capacity = atoi(capacity)\n",
    "            tmp.append({'distance':d,\n",
    "                        'capacity':capacity,\n",
    "                        'ids':park.id.values[0]})\n",
    "        except KeyError:\n",
    "            pass\n",
    "\n",
    "df = pd.DataFrame(columns=['distance','ids','capacity'],data=tmp)\n",
    "df.sort_values('distance',inplace=True)\n",
    "df.drop_duplicates(subset='ids',inplace=True)\n",
    "df.dropna(inplace=True)"
   ]
  },
  {
   "cell_type": "code",
   "execution_count": 67,
   "metadata": {},
   "outputs": [
    {
     "data": {
      "text/plain": [
       "<matplotlib.colorbar.Colorbar at 0x7f5a3e40c150>"
      ]
     },
     "execution_count": 67,
     "metadata": {},
     "output_type": "execute_result"
    },
    {
     "data": {
      "image/png": "[encoded data removed]",
      "text/plain": [
       "<matplotlib.figure.Figure at 0x7f5a3daa4dd0>"
      ]
     },
     "metadata": {},
     "output_type": "display_data"
    }
   ],
   "source": [
    "import seaborn as sns\n",
    "# plt.hist2d(df.capacity,df.distance*1000,bins=[np.arange(0,80,2.5),np.arange(0,250,10)]);\n",
    "plt.hist2d(df.capacity,df.distance*1000,bins=[np.arange(0,80,2.5),np.arange(0,250,10)]);\n",
    "plt.xlabel('declared capacity')\n",
    "plt.ylabel('line-of-sigth distance [m]')\n",
    "plt.colorbar()"
   ]
  },
  {
   "cell_type": "code",
   "execution_count": 68,
   "metadata": {},
   "outputs": [
    {
     "data": {
      "text/plain": [
       "<matplotlib.text.Text at 0x7f5a3e2e17d0>"
      ]
     },
     "execution_count": 68,
     "metadata": {},
     "output_type": "execute_result"
    },
    {
     "data": {
      "image/png": "[encoded data removed]",
      "text/plain": [
       "<matplotlib.figure.Figure at 0x7f5a60cd1850>"
      ]
     },
     "metadata": {},
     "output_type": "display_data"
    }
   ],
   "source": [
    "plt.hist(df.distance*1000,weights=df.capacity*1./len(park2stat),bins=np.arange(0,5000,10),cumulative=1);\n",
    "plt.xlim(0,150)\n",
    "plt.xlabel('distance[m]')\n",
    "plt.ylabel('# of place for bikes')"
   ]
  },
  {
   "cell_type": "code",
   "execution_count": 69,
   "metadata": {
    "collapsed": true
   },
   "outputs": [],
   "source": [
    "## Make geojson\n",
    "from tqdm import tqdm_notebook as tqdm"
   ]
  },
  {
   "cell_type": "code",
   "execution_count": 70,
   "metadata": {},
   "outputs": [
    {
     "data": {
      "text/plain": [
       "(48.3,\n",
       " {u'coordinates': [[2.300951, 48.839534],\n",
       "   [2.300951, 48.839534],\n",
       "   [2.300878, 48.839548],\n",
       "   [2.30114, 48.839635],\n",
       "   [2.301261, 48.839656],\n",
       "   [2.301309, 48.839581],\n",
       "   [2.301272, 48.839568]],\n",
       "  u'type': u'LineString'})"
      ]
     },
     "execution_count": 70,
     "metadata": {},
     "output_type": "execute_result"
    }
   ],
   "source": [
    "from urllib2 import urlopen\n",
    "import json\n",
    "import polyline\n",
    "\n",
    "\n",
    "#!/usr/bin/env python\n",
    "\n",
    "import sys\n",
    "\n",
    "#six degrees of precision in valhalla\n",
    "inv = 1.0 / 1e6;\n",
    "\n",
    "#decode an encoded string\n",
    "def decode(encoded):\n",
    "    decoded = []\n",
    "    previous = [0,0]\n",
    "    i = 0\n",
    "    #for each byte\n",
    "    while i < len(encoded):\n",
    "    #for each coord (lat, lon)\n",
    "    ll = [0,0]\n",
    "    for j in [0, 1]:\n",
    "        shift = 0\n",
    "        byte = 0x20\n",
    "        #keep decoding bytes until you have this coord\n",
    "        while byte >= 0x20:\n",
    "            byte = ord(encoded[i]) - 63\n",
    "            i += 1\n",
    "            ll[j] |= (byte & 0x1f) << shift\n",
    "            shift += 5\n",
    "        #get the final value adding the previous offset and remember it for the next\n",
    "        ll[j] = previous[j] + (~(ll[j] >> 1) if ll[j] & 1 else (ll[j] >> 1))\n",
    "        previous[j] = ll[j]\n",
    "    #scale by the precision and chop off long coords also flip the positions so\n",
    "    #its the far more standard lon,lat instead of lat,lon\n",
    "    decoded.append([float('%.6f' % (ll[1] * inv)), float('%.6f' % (ll[0] * inv))])\n",
    "    #hand back the list of coordinates\n",
    "    return decoded\n",
    "\n",
    "def route_p2p_osrm(p1,p2,mode='driving'):\n",
    "    \"\"\"\n",
    "        ask to the local OSRM the way from p1 to p2\n",
    "        p1:(lon, lat)\n",
    "        p2:(lon,lat)\n",
    "    \"\"\"\n",
    "    route_url=\"http://localhost:5000/route/v1/{mode:s}/{lon1:.5f},{lat1:.5f};{lon2:.5f},{lat2:.5f}?geometries=geojson&overview=full&steps=false\"\n",
    "    ((lon1,lat1),(lon2,lat2))=p1,p2\n",
    "    request = route_url.format(lat1=lat1,lon1=lon1,lat2=lat2,lon2=lon2,mode=mode)\n",
    "    response = urlopen(request).read()\n",
    "    route = json.loads(response)\n",
    "\n",
    "    distance = route['routes'][0]['distance']\n",
    "    path = route['routes'][0]['geometry']\n",
    "    \n",
    "    return distance,path\n",
    "\n",
    "route_p2p_osrm((2.30095, 48.83950),(2.301319, 48.83951))"
   ]
  },
  {
   "cell_type": "code",
   "execution_count": 71,
   "metadata": {
    "scrolled": false
   },
   "outputs": [
    {
     "name": "stderr",
     "output_type": "stream",
     "text": [
      "Widget Javascript not detected.  It may not be installed or enabled properly.\n"
     ]
    },
    {
     "data": {
      "application/vnd.jupyter.widget-view+json": {
       "model_id": "767777bb9d0d442e9bbc6b01e8648252"
      }
     },
     "metadata": {},
     "output_type": "display_data"
    },
    {
     "name": "stdout",
     "output_type": "stream",
     "text": [
      "\n"
     ]
    }
   ],
   "source": [
    "features = []\n",
    "points = []\n",
    "lines  = []\n",
    "def capacity_to_color(x):\n",
    "    if x>20:return \"#00ff00\"\n",
    "    if x>10:return \"#0000ff\"\n",
    "    if x>5 :return \"#ff0000\"\n",
    "    return \"#cccccc\"\n",
    "\n",
    "\n",
    "for row_stat in tqdm(park2stat):\n",
    "    d,(idstat,idpark)=row_stat[0]\n",
    "    stat = getstat(idstat)    \n",
    "    slat = stat.lat.values[0]\n",
    "    slon = stat.lon.values[0]\n",
    "    lin = []\n",
    "    for pbike in row_stat:\n",
    "        d,(_,idpark)=pbike\n",
    "        park=getpark(idpark)\n",
    "        # attributes\n",
    "        lat = park.lat.values[0]\n",
    "        lon = park.lon.values[0]\n",
    "        try:\n",
    "            capacity = park.tags.values[0]['capacity']\n",
    "            capacity = atoi(capacity)\n",
    "        except:\n",
    "            capacity = -1\n",
    "        d,line = route_p2p_osrm((lon,lat),(slon,slat))\n",
    "        if d<=100:\n",
    "            \n",
    "            p = gj.Point((lon,lat))\n",
    "            p = gj.Feature(geometry=p,properties={'title':'capacity {0:d}'.format(capacity),\n",
    "                                                  \"marker-color\": \"#ffffff\",   \n",
    "                                                  \"marker-symbolcolor\": capacity_to_color(capacity)})\n",
    "            points.append(p)\n",
    "            lin.append(line['coordinates'])\n",
    "    lines.append(gj.Feature(geometry=gj.MultiLineString(lin),properties={}))\n",
    "    \n",
    "points.extend(lines)\n",
    "with open('within100m.geojson','w') as fout:\n",
    "     print >> fout, gj.dumps(gj.FeatureCollection(points))"
   ]
  },
  {
   "cell_type": "markdown",
   "metadata": {},
   "source": [
    "## Interactive map"
   ]
  },
  {
   "cell_type": "code",
   "execution_count": 26,
   "metadata": {},
   "outputs": [
    {
     "name": "stdout",
     "output_type": "stream",
     "text": [
      "do not donwload the easymap library. I made changes to the sourcecode to remove the shadow and improve speed\n"
     ]
    }
   ],
   "source": [
    "from IPython.core.display import HTML\n",
    "\n",
    "print 'do not donwload the easymap library. I made changes to the sourcecode to remove the shadow and improve speed'\n",
    "# !wget https://raw.githubusercontent.com/Lapizistik/leaflet-easymap/master/js/leaflet-easymap.js\n",
    "# !mkdir js\n",
    "# !mv leaflet-easymap.js js -v"
   ]
  },
  {
   "cell_type": "code",
   "execution_count": 25,
   "metadata": {},
   "outputs": [
    {
     "data": {
      "text/html": [
       "<html>\n",
       "<head>\n",
       "    <!-- include leaflet css and javascript -->\n",
       "    <link rel=\"stylesheet\" href=\"https://unpkg.com/leaflet@1.1.0/dist/leaflet.css\" />\n",
       "    <script src=\"https://unpkg.com/leaflet@1.1.0/dist/leaflet.js\" ></script>\n",
       "\n",
       "    <!-- the leaflet easymap javascript -->\n",
       "    <!-- include this _after_ the leaflet javascript -->\n",
       "    <script src=\"js/leaflet-easymap.js\"></script>\n",
       "        \n",
       "    <style type=\"text/css\">\n",
       "      .leasymap {\n",
       "        /* Important: the element needs a height! */\n",
       "        height: 500px; /* adjust this as you need it */\n",
       "        width: 100%; /* adjust this as you need it */\n",
       "        /* the following css is optional */\n",
       "        border: 0px solid black;\n",
       "        margin:5px;\n",
       "      }\n",
       "    </style>\n",
       "</head>\n",
       "<body>\n",
       "    <a href='parkmybike.html' target=_blank>open me </a>\n",
       "    <div class=\"leasymap\" data-locate=\"true\" data-geojson=\"within100m.geojson\" data-origin=\"geojson\"></div>\n",
       "</body>\n",
       "</html>\n"
      ],
      "text/plain": [
       "<IPython.core.display.HTML object>"
      ]
     },
     "execution_count": 25,
     "metadata": {},
     "output_type": "execute_result"
    }
   ],
   "source": [
    "page=\"\"\"<html>\n",
    "<head>\n",
    "    <!-- include leaflet css and javascript -->\n",
    "    <link rel=\"stylesheet\" href=\"https://unpkg.com/leaflet@1.1.0/dist/leaflet.css\" />\n",
    "    <script src=\"https://unpkg.com/leaflet@1.1.0/dist/leaflet.js\" ></script>\n",
    "\n",
    "    <!-- the leaflet easymap javascript -->\n",
    "    <!-- include this _after_ the leaflet javascript -->\n",
    "    <script src=\"js/leaflet-easymap.js\"></script>\n",
    "        \n",
    "    <style type=\"text/css\">\n",
    "      .leasymap {\n",
    "        /* Important: the element needs a height! */\n",
    "        height: 500px; /* adjust this as you need it */\n",
    "        width: 100%; /* adjust this as you need it */\n",
    "        /* the following css is optional */\n",
    "        border: 0px solid black;\n",
    "        margin:5px;\n",
    "      }\n",
    "    </style>\n",
    "</head>\n",
    "<body>\n",
    "    <a href='parkmybike.html' target=_blank>open me </a>\n",
    "    <div class=\"leasymap\" data-locate=\"true\" data-geojson=\"within100m.geojson\" data-origin=\"geojson\"></div>\n",
    "</body>\n",
    "</html>\n",
    "\"\"\"\n",
    "with open('parkmybike.html','w') as fout:\n",
    "    print >> fout,page\n",
    "\n",
    "HTML(page)"
   ]
  },
  {
   "cell_type": "code",
   "execution_count": null,
   "metadata": {
    "collapsed": true
   },
   "outputs": [],
   "source": [
    "from IPython.core."
   ]
  },
  {
   "cell_type": "code",
   "execution_count": null,
   "metadata": {
    "collapsed": true
   },
   "outputs": [],
   "source": []
  }
 ],
 "metadata": {
  "kernelspec": {
   "display_name": "Python [conda root]",
   "language": "python",
   "name": "conda-root-py"
  },
  "language_info": {
   "codemirror_mode": {
    "name": "ipython",
    "version": 2
   },
   "file_extension": ".py",
   "mimetype": "text/x-python",
   "name": "python",
   "nbconvert_exporter": "python",
   "pygments_lexer": "ipython2",
   "version": "2.7.14"
  }
 },
 "nbformat": 4,
 "nbformat_minor": 2
}
