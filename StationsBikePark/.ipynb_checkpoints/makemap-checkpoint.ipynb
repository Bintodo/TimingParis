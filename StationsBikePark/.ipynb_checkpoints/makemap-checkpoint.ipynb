{
 "cells": [
  {
   "cell_type": "markdown",
   "metadata": {},
   "source": [
    "# Where to park my bike\n",
    "\n",
    "Hey, man! If you landed here, you probably want to see the result of this code: [serve yourself](parkmybike.html).\n",
    "This is a small projects which grew up alongside other projects on Paris, mobility, and #opendata and #smartcity, as [Timing Paris](https://github.com/astyonax/TimingParis) and [Heart Beat of Paris](https://github.com/astyonax/heartbeat-traffic). \n",
    "\n",
    "Here I take the problem of an *inter-modal* commuter who wants to go to the most convenient subway station by bike instead of, e.g., taking connecting metros or walking. Rather academicly, or if this commuter is polite, this poses the problem of parking the bike *near* the subway entrance on a dedicated space which does not annoy other peoples. \n",
    "\n",
    "Stated in another way: How do we correlate bike parkings and subway entrances? \n",
    "Turns out that, thanks to OpenStreetMaps, cities can be queried as databases  (eg, the [OverPass API](http://wiki.openstreetmap.org/wiki/Overpass_API))\n",
    "and from that we get all that is needed.\n",
    "\n",
    "Undoubtely, I may have spent more on this to get more refined data, but don't be shy and open a *pull request* with enhancements!!\n",
    "\n",
    "---\n",
    "\n",
    "## Steps\n",
    "\n",
    "Thus, here follow the steps needed to recreate (and update) the map.\n",
    "\n",
    "0. You need a working OSRM server locally, with the db of Paris (or ile-de-france). \n",
    "\n",
    "1. Query OpenStreetMaps for bike parks and subway entraces: `scripts/queries.py` .\n",
    "*Requirements*: `dill` and `overpy` (for OSM overpass API)\n",
    "\n",
    "2. Make map between stations and top 10 nearest bike parks and viceversa:  `scripts/filtering.py`\n",
    "*Requirements*: `numba, dill, pandas, numpy`\n",
    "\n",
    "3. The following cells make sense of the data and generate the crucial geojson, and the bare html."
   ]
  },
  {
   "cell_type": "code",
   "execution_count": 9,
   "metadata": {},
   "outputs": [
    {
     "name": "stdout",
     "output_type": "stream",
     "text": [
      "Populating the interactive namespace from numpy and matplotlib\n"
     ]
    },
    {
     "name": "stderr",
     "output_type": "stream",
     "text": [
      "/home/astyonax/.anaconda/lib/python2.7/site-packages/IPython/core/magics/pylab.py:161: UserWarning: pylab import has clobbered these variables: ['plt']\n",
      "`%matplotlib` prevents importing * from pylab and numpy\n",
      "  \"\\n`%matplotlib` prevents importing * from pylab and numpy\"\n"
     ]
    }
   ],
   "source": [
    "%pylab inline\n",
    "import pandas as pd\n",
    "import numpy as np\n",
    "import dill\n",
    "from string import atoi\n",
    "import geojson as gj\n",
    "from tqdm import tqdm_notebook as tqdm\n",
    "from urllib2 import urlopen\n",
    "import json\n",
    "import polyline\n",
    "import sys\n",
    "import seaborn as sns"
   ]
  },
  {
   "cell_type": "code",
   "execution_count": 4,
   "metadata": {},
   "outputs": [],
   "source": [
    "# functions to retrieve a station or a bike park from the map of the top 10 nearest bike parks or stations respectively\n",
    "def getstat(idx):\n",
    "    return table_stations[table_stations.id==idx]\n",
    "def getpark(idx):\n",
    "    return table_pbike[table_pbike.id==idx]\n",
    "def dstr(x):\n",
    "    out = u\"\"\n",
    "    x = x.values[0]\n",
    "    for i,j in x.iteritems():\n",
    "        if 'source' not in i:\n",
    "            out +=u\"{0:s}:{1:s} -- \\n\".format(i,j)\n",
    "    return out.strip()"
   ]
  },
  {
   "cell_type": "code",
   "execution_count": 5,
   "metadata": {},
   "outputs": [],
   "source": [
    "table_pbike = pd.read_pickle('table_pbike.pkl')\n",
    "table_stations = pd.read_pickle('table_stations.pkl')\n",
    "data = dill.load(open('top10s.dill','rb'))\n",
    "stat2park = data['stat2park']\n",
    "park2stat = data['park2stat']"
   ]
  },
  {
   "cell_type": "code",
   "execution_count": 22,
   "metadata": {},
   "outputs": [
    {
     "data": {
      "text/html": [
       "<div>\n",
       "<style>\n",
       "    .dataframe thead tr:only-child th {\n",
       "        text-align: right;\n",
       "    }\n",
       "\n",
       "    .dataframe thead th {\n",
       "        text-align: left;\n",
       "    }\n",
       "\n",
       "    .dataframe tbody tr th {\n",
       "        vertical-align: top;\n",
       "    }\n",
       "</style>\n",
       "<table border=\"1\" class=\"dataframe\">\n",
       "  <thead>\n",
       "    <tr style=\"text-align: right;\">\n",
       "      <th></th>\n",
       "      <th>id</th>\n",
       "      <th>lat</th>\n",
       "      <th>lon</th>\n",
       "      <th>tags</th>\n",
       "    </tr>\n",
       "  </thead>\n",
       "  <tbody>\n",
       "    <tr>\n",
       "      <th>0</th>\n",
       "      <td>250656805</td>\n",
       "      <td>48.839508</td>\n",
       "      <td>2.301319</td>\n",
       "      <td>{u'railway': u'subway_entrance', u'wheelchair'...</td>\n",
       "    </tr>\n",
       "    <tr>\n",
       "      <th>1</th>\n",
       "      <td>256441196</td>\n",
       "      <td>48.852563</td>\n",
       "      <td>2.406038</td>\n",
       "      <td>{u'wheelchair': u'no', u'ref': u'3', u'railway...</td>\n",
       "    </tr>\n",
       "    <tr>\n",
       "      <th>2</th>\n",
       "      <td>256441197</td>\n",
       "      <td>48.852589</td>\n",
       "      <td>2.406224</td>\n",
       "      <td>{u'wheelchair': u'no', u'ref': u'2', u'railway...</td>\n",
       "    </tr>\n",
       "    <tr>\n",
       "      <th>3</th>\n",
       "      <td>256441199</td>\n",
       "      <td>48.852911</td>\n",
       "      <td>2.405953</td>\n",
       "      <td>{u'wheelchair': u'no', u'ref': u'1', u'railway...</td>\n",
       "    </tr>\n",
       "    <tr>\n",
       "      <th>4</th>\n",
       "      <td>256442277</td>\n",
       "      <td>48.853653</td>\n",
       "      <td>2.410406</td>\n",
       "      <td>{u'railway': u'subway_entrance', u'ref': u'3',...</td>\n",
       "    </tr>\n",
       "  </tbody>\n",
       "</table>\n",
       "</div>"
      ],
      "text/plain": [
       "          id        lat       lon  \\\n",
       "0  250656805  48.839508  2.301319   \n",
       "1  256441196  48.852563  2.406038   \n",
       "2  256441197  48.852589  2.406224   \n",
       "3  256441199  48.852911  2.405953   \n",
       "4  256442277  48.853653  2.410406   \n",
       "\n",
       "                                                tags  \n",
       "0  {u'railway': u'subway_entrance', u'wheelchair'...  \n",
       "1  {u'wheelchair': u'no', u'ref': u'3', u'railway...  \n",
       "2  {u'wheelchair': u'no', u'ref': u'2', u'railway...  \n",
       "3  {u'wheelchair': u'no', u'ref': u'1', u'railway...  \n",
       "4  {u'railway': u'subway_entrance', u'ref': u'3',...  "
      ]
     },
     "execution_count": 22,
     "metadata": {},
     "output_type": "execute_result"
    }
   ],
   "source": [
    "table_stations.head()"
   ]
  },
  {
   "cell_type": "code",
   "execution_count": 25,
   "metadata": {},
   "outputs": [
    {
     "data": {
      "text/plain": [
       "id      852\n",
       "lat     852\n",
       "lon     852\n",
       "tags    852\n",
       "dtype: int64"
      ]
     },
     "execution_count": 25,
     "metadata": {},
     "output_type": "execute_result"
    }
   ],
   "source": [
    "table_stations.count()"
   ]
  },
  {
   "cell_type": "code",
   "execution_count": 31,
   "metadata": {},
   "outputs": [
    {
     "name": "stdout",
     "output_type": "stream",
     "text": [
      "<class 'pandas.core.series.Series'>\n",
      "0    [[0.186178390495, (286845307.0, 1232772979)], ...\n",
      "1    [[0.0920411190939, (286846481.0, 4089581330)],...\n",
      "2    [[0.349999822665, (319695113.0, 1014002249)], ...\n",
      "3    [[0.0250383401361, (319702726.0, 4577464092)],...\n",
      "4    [[0.174200387678, (321322278.0, 321203628)], [...\n",
      "dtype: object\n",
      "2366\n"
     ]
    }
   ],
   "source": [
    "print type(stat2park)\n",
    "print stat2park.head()\n",
    "print stat2park.count()"
   ]
  },
  {
   "cell_type": "markdown",
   "metadata": {},
   "source": [
    "## Visualize easy statistics"
   ]
  },
  {
   "cell_type": "code",
   "execution_count": 7,
   "metadata": {},
   "outputs": [],
   "source": [
    "# get nearest, 2nd nearest and 3rd from park2stat (see filtering.py)\n",
    "distances0 = [d[0][0]*1000 for d in park2stat]\n",
    "distances1 = [d[1][0]*1000 for d in park2stat]\n",
    "distances2 = [d[2][0]*1000 for d in park2stat]"
   ]
  },
  {
   "cell_type": "code",
   "execution_count": 10,
   "metadata": {
    "scrolled": false
   },
   "outputs": [
    {
     "name": "stdout",
     "output_type": "stream",
     "text": [
      "Populating the interactive namespace from numpy and matplotlib\n"
     ]
    },
    {
     "data": {
      "text/plain": [
       "<matplotlib.legend.Legend at 0x7fc8cad15910>"
      ]
     },
     "execution_count": 10,
     "metadata": {},
     "output_type": "execute_result"
    },
    {
     "data": {
      "image/png": "[encoded data removed]",
      "text/plain": [
       "<matplotlib.figure.Figure at 0x7fc8cb0a89d0>"
      ]
     },
     "metadata": {},
     "output_type": "display_data"
    }
   ],
   "source": [
    "%pylab inline\n",
    "import pylab as plt\n",
    "bins = np.linspace(0,1000,200)\n",
    "\n",
    "cs=False\n",
    "plt.hist(distances0,bins=bins,cumulative=cs);\n",
    "plt.hist(distances1,bins=bins,cumulative=cs);\n",
    "plt.hist(distances2,bins=bins,cumulative=cs);\n",
    "plt.xlim(0,150)\n",
    "plt.gca().set_xlabel('distance[m]')\n",
    "plt.gca().legend(['nearest','2nd nearest','3rd'])"
   ]
  },
  {
   "cell_type": "code",
   "execution_count": 12,
   "metadata": {},
   "outputs": [],
   "source": [
    "tmp=[]\n",
    "for row_stat in park2stat:\n",
    "    for pbike in row_stat:\n",
    "        d,(_,idpark)=pbike\n",
    "        park=getpark(idpark)\n",
    "        capacity = np.nan\n",
    "        try:\n",
    "            capacity = park.tags.values[0]['capacity']\n",
    "            capacity = atoi(capacity)\n",
    "            tmp.append({'distance':d,\n",
    "                        'capacity':capacity,\n",
    "                        'ids':park.id.values[0]})\n",
    "        except KeyError:\n",
    "            pass\n",
    "\n",
    "df = pd.DataFrame(columns=['distance','ids','capacity'],data=tmp)\n",
    "df.sort_values('distance',inplace=True)\n",
    "df.drop_duplicates(subset='ids',inplace=True)\n",
    "df.dropna(inplace=True)"
   ]
  },
  {
   "cell_type": "code",
   "execution_count": 13,
   "metadata": {},
   "outputs": [
    {
     "data": {
      "text/plain": [
       "<matplotlib.colorbar.Colorbar at 0x7fc8bc252610>"
      ]
     },
     "execution_count": 13,
     "metadata": {},
     "output_type": "execute_result"
    },
    {
     "data": {
      "image/png": "[encoded data removed]",
      "text/plain": [
       "<matplotlib.figure.Figure at 0x7fc8cad15650>"
      ]
     },
     "metadata": {},
     "output_type": "display_data"
    }
   ],
   "source": [
    "# plt.hist2d(df.capacity,df.distance*1000,bins=[np.arange(0,80,2.5),np.arange(0,250,10)]);\n",
    "plt.hist2d(df.capacity,df.distance*1000,bins=[np.arange(0,80,2.5),np.arange(0,250,10)]);\n",
    "plt.xlabel('declared capacity')\n",
    "plt.ylabel('line-of-sigth distance [m]')\n",
    "plt.colorbar()"
   ]
  },
  {
   "cell_type": "code",
   "execution_count": 32,
   "metadata": {},
   "outputs": [
    {
     "data": {
      "text/plain": [
       "<matplotlib.text.Text at 0x7fc8bb827e10>"
      ]
     },
     "execution_count": 32,
     "metadata": {},
     "output_type": "execute_result"
    },
    {
     "data": {
      "image/png": "[encoded data removed]",
      "text/plain": [
       "<matplotlib.figure.Figure at 0x7fc8e4610e50>"
      ]
     },
     "metadata": {},
     "output_type": "display_data"
    }
   ],
   "source": [
    "plt.hist(df.distance*1000,weights=df.capacity*1./table_stations.shape[0],bins=np.arange(0,150,5),cumulative=1);\n",
    "plt.xlim(0,150)\n",
    "plt.xlabel('line-of-sigth distance[m]')\n",
    "plt.ylabel('# of place for bikes per metro station')"
   ]
  },
  {
   "cell_type": "markdown",
   "metadata": {
    "collapsed": true
   },
   "source": [
    "## Make geojson\n",
    "\n",
    "Note that I ran this code last time on July '17. Since then, I remove the function `decode(encodedstr)` which did not appeared and changed the line saving the file geojson to encode the threshold distance, but I didn't rerun the cells. The git log contains the changes, and in case I broke something: sorry."
   ]
  },
  {
   "cell_type": "code",
   "execution_count": 70,
   "metadata": {},
   "outputs": [
    {
     "data": {
      "text/plain": [
       "(48.3,\n",
       " {u'coordinates': [[2.300951, 48.839534],\n",
       "   [2.300951, 48.839534],\n",
       "   [2.300878, 48.839548],\n",
       "   [2.30114, 48.839635],\n",
       "   [2.301261, 48.839656],\n",
       "   [2.301309, 48.839581],\n",
       "   [2.301272, 48.839568]],\n",
       "  u'type': u'LineString'})"
      ]
     },
     "execution_count": 70,
     "metadata": {},
     "output_type": "execute_result"
    }
   ],
   "source": [
    "def route_p2p_osrm(p1,p2,mode='driving'):\n",
    "    \"\"\"\n",
    "        ask to the local OSRM routing engine the way from p1 to p2\n",
    "        p1:(lon, lat)\n",
    "        p2:(lon,lat)\n",
    "    \"\"\"\n",
    "    route_url=\"http://localhost:5000/route/v1/{mode:s}/{lon1:.5f},{lat1:.5f};{lon2:.5f},{lat2:.5f}?geometries=geojson&overview=full&steps=false\"\n",
    "    ((lon1,lat1),(lon2,lat2))=p1,p2\n",
    "    request = route_url.format(lat1=lat1,lon1=lon1,lat2=lat2,lon2=lon2,mode=mode)\n",
    "    response = urlopen(request).read()\n",
    "    route = json.loads(response)\n",
    "\n",
    "    distance = route['routes'][0]['distance'] # meters\n",
    "    path = route['routes'][0]['geometry']\n",
    "    \n",
    "    return distance,path\n",
    "\n",
    "route_p2p_osrm((2.30095, 48.83950),(2.301319, 48.83951))"
   ]
  },
  {
   "cell_type": "code",
   "execution_count": 71,
   "metadata": {
    "scrolled": false
   },
   "outputs": [
    {
     "name": "stderr",
     "output_type": "stream",
     "text": [
      "Widget Javascript not detected.  It may not be installed or enabled properly.\n"
     ]
    },
    {
     "data": {
      "application/vnd.jupyter.widget-view+json": {
       "model_id": "767777bb9d0d442e9bbc6b01e8648252"
      }
     },
     "metadata": {},
     "output_type": "display_data"
    },
    {
     "name": "stdout",
     "output_type": "stream",
     "text": [
      "\n"
     ]
    }
   ],
   "source": [
    "\n",
    "\n",
    "def capacity_to_color(x):\n",
    "    # this function is used to assign a color to the bike parks markers\n",
    "    # assign red if x>5, blue for 10<x<20, and green for x>20\n",
    "    # else grey\n",
    "    if x>20:return \"#00ff00\"\n",
    "    if x>10:return \"#0000ff\"\n",
    "    if x>5 :return \"#ff0000\"\n",
    "    return \"#cccccc\"\n",
    "\n",
    "DISTANCE = 100 # meters\n",
    "# 1. for each park within the top 10 of each station\n",
    "# 2. get its capacity (will map to color in point 4.)\n",
    "# 3. compute path and path distance with OSRM routing (only by car so far)\n",
    "# 4. if distance smaller than threshold, make a geojeson point and feature associated to the point\n",
    "# 5. store the point in the `points` list\n",
    "# 6. store the line in a `lin` list which contains all the lines going to this station (see point 1.)\n",
    "# 7. at the end of the loop over parks, make a geojson multilinestring out of `lin` and add to `lines`\n",
    "# 8. at the very end, put lines and point togheter and make a FeatureCollection out of everythings and dump as geojson\n",
    "# now  I repeat, with code\n",
    "\n",
    "# 0. declare lists\n",
    "features = []\n",
    "points = []\n",
    "lines  = []\n",
    "\n",
    "for row_stat in tqdm(park2stat):\n",
    "    d,(idstat,idpark)=row_stat[0]\n",
    "    stat = getstat(idstat)    \n",
    "    slat = stat.lat.values[0]\n",
    "    slon = stat.lon.values[0]\n",
    "    lin = []\n",
    "    # 1. for each park within the top 10 of each station\n",
    "    for pbike in row_stat:\n",
    "        d,(_,idpark)=pbike\n",
    "        park=getpark(idpark)\n",
    "        # get attributes\n",
    "        lat = park.lat.values[0]\n",
    "        lon = park.lon.values[0]\n",
    "        # 2. get its capacity (will map to color in point 4.)\n",
    "        try:\n",
    "            capacity = park.tags.values[0]['capacity']\n",
    "            capacity = atoi(capacity)\n",
    "        except:\n",
    "            capacity = -1\n",
    "        # 3. compute path and path distance with OSRM routing (only by car so far)\n",
    "        d,line = route_p2p_osrm((lon,lat),(slon,slat))\n",
    "        # 4. if distance smaller than threshold, make a geojeson point and feature associated to the point\n",
    "        if d<=DISTANCE:\n",
    "            _p = gj.Point((lon,lat)) \n",
    "            # dict keys for properties are those defined by leaflet, not just ok-ish names\n",
    "            p = gj.Feature(geometry=_p,properties={'title':'capacity {0:d}'.format(capacity),\n",
    "                                                  \"marker-color\": \"#ffffff\",   \n",
    "                                                  \"marker-symbolcolor\": capacity_to_color(capacity)})\n",
    "            # 5. store the point in the `points` list\n",
    "            points.append(p)\n",
    "            # 6. store the line in a `lin` list which contains all the lines going to this station (see point 1.)\n",
    "            lin.append(line['coordinates'])\n",
    "    # 7. at the end of the loop over parks, make a geojson multilinestring out of `lin` and add to `lines`\n",
    "    lines.append(gj.Feature(geometry=gj.MultiLineString(lin),properties={}))\n",
    "    \n",
    "# 8. at the very end, put lines and point togheter and make a FeatureCollection out of everythings and dump as geojson\n",
    "points.extend(lines)\n",
    "with open('data/within{0:d}m.geojson'.format(DISTANCE),'w') as fout:\n",
    "     print >> fout, gj.dumps(gj.FeatureCollection(points))"
   ]
  },
  {
   "cell_type": "markdown",
   "metadata": {},
   "source": [
    "## Interactive map\n",
    "This code download the needed js files and writes the required html code to a file"
   ]
  },
  {
   "cell_type": "code",
   "execution_count": 26,
   "metadata": {},
   "outputs": [
    {
     "name": "stdout",
     "output_type": "stream",
     "text": [
      "do not donwload the easymap library. I made changes to the sourcecode to remove the shadow and improve speed\n"
     ]
    }
   ],
   "source": [
    "from IPython.core.display import HTML\n",
    "\n",
    "print 'do not donwload the easymap library. I made changes to the sourcecode to remove the shadow and improve speed'\n",
    "# !wget https://raw.githubusercontent.com/Lapizistik/leaflet-easymap/master/js/leaflet-easymap.js\n",
    "# !mkdir js\n",
    "# !mv leaflet-easymap.js js -v"
   ]
  },
  {
   "cell_type": "markdown",
   "metadata": {},
   "source": [
    "**If you run the next cell you overwrite the webpage, not the data**"
   ]
  },
  {
   "cell_type": "code",
   "execution_count": 11,
   "metadata": {},
   "outputs": [],
   "source": [
    "# page=\"\"\"<html>\n",
    "# <head>\n",
    "#     <!-- include leaflet css and javascript -->\n",
    "#     <link rel=\"stylesheet\" href=\"https://unpkg.com/leaflet@1.1.0/dist/leaflet.css\" />\n",
    "#     <script src=\"https://unpkg.com/leaflet@1.1.0/dist/leaflet.js\" ></script>\n",
    "\n",
    "#     <!-- the leaflet easymap javascript -->\n",
    "#     <!-- include this _after_ the leaflet javascript -->\n",
    "#     <script src=\"js/leaflet-easymap.js\"></script>\n",
    "        \n",
    "#     <style type=\"text/css\">\n",
    "#       .leasymap {\n",
    "#         /* Important: the element needs a height! */\n",
    "#         height: 500px; /* adjust this as you need it */\n",
    "#         width: 100%; /* adjust this as you need it */\n",
    "#         /* the following css is optional */\n",
    "#         border: 0px solid black;\n",
    "#         margin:5px;\n",
    "#       }\n",
    "#     </style>\n",
    "# </head>\n",
    "# <body>\n",
    "#     <a href='parkmybike.html' target=_blank>open me </a>\n",
    "#     <div class=\"leasymap\" data-locate=\"true\" data-geojson=\"within100m.geojson\" data-origin=\"geojson\"></div>\n",
    "# </body>\n",
    "# </html>\n",
    "# \"\"\"\n",
    "# with open('parkmybike.html','w') as fout:\n",
    "#     print >> fout,page\n",
    "\n",
    "# # HTML(page)"
   ]
  }
 ],
 "metadata": {
  "kernelspec": {
   "display_name": "Python [conda root]",
   "language": "python",
   "name": "conda-root-py"
  },
  "language_info": {
   "codemirror_mode": {
    "name": "ipython",
    "version": 2
   },
   "file_extension": ".py",
   "mimetype": "text/x-python",
   "name": "python",
   "nbconvert_exporter": "python",
   "pygments_lexer": "ipython2",
   "version": "2.7.14"
  }
 },
 "nbformat": 4,
 "nbformat_minor": 2
}
